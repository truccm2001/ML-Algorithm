{
  "nbformat": 4,
  "nbformat_minor": 0,
  "metadata": {
    "colab": {
      "name": "K-Nearest.ipynb",
      "provenance": [],
      "collapsed_sections": [],
      "authorship_tag": "ABX9TyP3c4uCL1OnZjvkS3hIS8kA"
    },
    "kernelspec": {
      "name": "python3",
      "display_name": "Python 3"
    },
    "language_info": {
      "name": "python"
    }
  },
  "cells": [
    {
      "cell_type": "code",
      "metadata": {
        "id": "Cewket2IDKzX"
      },
      "source": [
        "from sklearn import datasets\n",
        "from sklearn.model_selection import train_test_split\n",
        "import matplotlib.pyplot as plt\n",
        "from matplotlib.colors import ListedColormap\n",
        "import numpy as np\n",
        "from collections import Counter"
      ],
      "execution_count": 10,
      "outputs": []
    },
    {
      "cell_type": "markdown",
      "metadata": {
        "id": "U-OGmq7ewnMC"
      },
      "source": [
        "# Using K-Nearest"
      ]
    },
    {
      "cell_type": "code",
      "metadata": {
        "id": "sXYBeywADVsv"
      },
      "source": [
        "cmap = ListedColormap(['red', 'blue', 'green'])\n",
        "iris = datasets.load_iris()\n",
        "X, Y = iris.data, iris.target"
      ],
      "execution_count": 13,
      "outputs": []
    },
    {
      "cell_type": "code",
      "metadata": {
        "id": "ZT5udRfhDbFi"
      },
      "source": [
        "print(iris)\n",
        "print(X)\n",
        "print(Y)"
      ],
      "execution_count": null,
      "outputs": []
    },
    {
      "cell_type": "code",
      "metadata": {
        "id": "2i3KwgXeFS6a"
      },
      "source": [
        "#test: 20%, train: 80%\n",
        "x_train, x_test, y_train, y_test = train_test_split(X,Y, test_size=0.2, random_state=1024)"
      ],
      "execution_count": 32,
      "outputs": []
    },
    {
      "cell_type": "code",
      "metadata": {
        "id": "FvooeKluHfk8"
      },
      "source": [
        "print(x_train.shape)\n",
        "print(x_test.shape)\n",
        "print(X.shape)\n",
        "print(y_train.shape)\n",
        "print(y_test.shape)\n",
        "print(Y.shape)"
      ],
      "execution_count": null,
      "outputs": []
    },
    {
      "cell_type": "code",
      "metadata": {
        "id": "JwtwQHIcILjC",
        "colab": {
          "base_uri": "https://localhost:8080/",
          "height": 268
        },
        "outputId": "c231d425-5482-4ea7-ebdf-f19ccb1dac4d"
      },
      "source": [
        "# show data\n",
        "plt.figure()\n",
        "plt.scatter(X[:,0], X[:,1], c=Y, cmap=cmap)\n",
        "plt.show()"
      ],
      "execution_count": 17,
      "outputs": [
        {
          "output_type": "display_data",
          "data": {
            "image/png": "[encoded data removed]",
            "text/plain": [
              "<Figure size 432x288 with 1 Axes>"
            ]
          },
          "metadata": {
            "needs_background": "light"
          }
        }
      ]
    },
    {
      "cell_type": "code",
      "metadata": {
        "colab": {
          "base_uri": "https://localhost:8080/"
        },
        "id": "esPdJ3phvEOz",
        "outputId": "bdf41c13-eb63-4def-e463-9c7080a81437"
      },
      "source": [
        "model = KNearest(k=3)\n",
        "model.fit(x_train, y_train)\n",
        "predictions = model.predict(x_test)\n",
        "print('Prediction: ', predictions)\n",
        "\n",
        "accuracy = np.sum(predictions == y_test) / len(y_test)\n",
        "print('Accuracy: ', accuracy)\n",
        "print(y_test)"
      ],
      "execution_count": 33,
      "outputs": [
        {
          "output_type": "stream",
          "name": "stdout",
          "text": [
            "Prediction:  [1, 0, 2, 1, 0, 0, 1, 2, 1, 0, 0, 0, 1, 2, 1, 0, 1, 0, 2, 0, 1, 0, 1, 0, 2, 1, 1, 2, 2, 2]\n",
            "Accuracy:  0.9\n",
            "[1 0 2 2 0 0 1 2 1 0 0 0 1 2 1 0 1 0 2 0 2 0 1 0 2 1 2 2 2 2]\n"
          ]
        }
      ]
    },
    {
      "cell_type": "markdown",
      "metadata": {
        "id": "YVv0EAbFT1id"
      },
      "source": [
        "#Implement K-Nearest"
      ]
    },
    {
      "cell_type": "code",
      "metadata": {
        "id": "9C8fgWWK_Zfe"
      },
      "source": [
        "def euclidean_distance(x1,x2):\n",
        "  return np.sqrt(np.sum(x1-x2)**2)"
      ],
      "execution_count": 11,
      "outputs": []
    },
    {
      "cell_type": "code",
      "metadata": {
        "id": "5PMy8ZI5Z7nP"
      },
      "source": [
        "class KNearest:\n",
        "  def __init__(self, k=3):\n",
        "    self.k = k\n",
        "  \n",
        "  #training\n",
        "  def fit(self, X, Y):\n",
        "    self.x_train = X\n",
        "    self.y_train = Y\n",
        "\n",
        "  #predict\n",
        "  def predict(self, X):\n",
        "      predicted_labels = [self._predict(x) for x in X]\n",
        "      return predicted_labels\n",
        "  \n",
        "  #Process\n",
        "  def _predict(self, x_input):\n",
        "    #compute distances\n",
        "    distances = [euclidean_distance(x_train,x_input) for x_train in self.x_train]\n",
        "\n",
        "    #get k nearest (argsort: return an indices array of the array after sorting)\n",
        "    k_nearest_indices = np.argsort(distances)[:self.k]\n",
        "    k_nearest_labels = [self.y_train[i] for i in k_nearest_indices]\n",
        "\n",
        "    #get the most commom lables\n",
        "    find_common_label = Counter(k_nearest_labels).most_common(1) \n",
        "    common_label = find_common_label[0][0]\n",
        "\n",
        "    return common_label;\n"
      ],
      "execution_count": 26,
      "outputs": []
    },
    {
      "cell_type": "code",
      "metadata": {
        "id": "kT1Kcay8pYEx"
      },
      "source": [
        "# # Test COunter\n",
        "# a = [1,1,1,2,3,4,5,6,6,6,7,8,6,2]\n",
        "# from collections import Counter\n",
        "# find_most_common = Counter(a)"
      ],
      "execution_count": 5,
      "outputs": []
    },
    {
      "cell_type": "code",
      "metadata": {
        "id": "8yontgJOpx1_"
      },
      "source": [
        "# print(find_most_common)"
      ],
      "execution_count": null,
      "outputs": []
    }
  ]
}