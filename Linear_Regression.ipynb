{
  "nbformat": 4,
  "nbformat_minor": 0,
  "metadata": {
    "colab": {
      "name": "Linear Regression.ipynb",
      "provenance": [],
      "collapsed_sections": [],
      "authorship_tag": "ABX9TyPS3h5f4RUHZREDPxpJoFvP"
    },
    "kernelspec": {
      "name": "python3",
      "display_name": "Python 3"
    },
    "language_info": {
      "name": "python"
    }
  },
  "cells": [
    {
      "cell_type": "code",
      "metadata": {
        "id": "OsbUwM8a8zoW"
      },
      "source": [
        "from sklearn.model_selection import train_test_split\n",
        "from sklearn import datasets\n",
        "import matplotlib.pyplot as plt\n",
        "import numpy as np\n",
        "import math"
      ],
      "execution_count": 1,
      "outputs": []
    },
    {
      "cell_type": "code",
      "metadata": {
        "id": "DEOHnjwo-RK2"
      },
      "source": [
        "X,Y = datasets.make_regression(n_samples=100, n_features=1, noise=20, random_state=1024)\n",
        "x_train, x_test, y_train, y_test = train_test_split(X,Y, test_size=0.2, random_state=255)"
      ],
      "execution_count": 21,
      "outputs": []
    },
    {
      "cell_type": "code",
      "metadata": {
        "id": "zdo6F2rrA_k6"
      },
      "source": [
        "print(X.shape)\n",
        "print(Y.shape)\n",
        "print(x_train)\n",
        "print(y_train)"
      ],
      "execution_count": null,
      "outputs": []
    },
    {
      "cell_type": "code",
      "metadata": {
        "colab": {
          "base_uri": "https://localhost:8080/",
          "height": 265
        },
        "id": "uQY96oLUBDhD",
        "outputId": "75f7601e-049a-4f07-9929-94842207828a"
      },
      "source": [
        "plt.scatter(X,Y)\n",
        "plt.show()"
      ],
      "execution_count": 4,
      "outputs": [
        {
          "output_type": "display_data",
          "data": {
            "image/png": "[encoded data removed]",
            "text/plain": [
              "<Figure size 432x288 with 1 Axes>"
            ]
          },
          "metadata": {
            "needs_background": "light"
          }
        }
      ]
    },
    {
      "cell_type": "markdown",
      "metadata": {
        "id": "EwAhwG9I9ji9"
      },
      "source": [
        "# Implement Linear Regression"
      ]
    },
    {
      "cell_type": "code",
      "metadata": {
        "id": "PxfKuN979nPX"
      },
      "source": [
        "class LinearRegression:\n",
        "  def __init__(self, lr=0.001, n_iters=1000, weight=1, bias=0):\n",
        "    self.lr = lr\n",
        "    self.n_iters = n_iters\n",
        "    self.stop_point = math.e**(-6)\n",
        "    self.bias = bias\n",
        "    self.weight = weight\n",
        "  \n",
        "  def cost(self, n_samples, x_train, y_train):\n",
        "    return 1/(2*n_samples) * np.sum((np.dot(x_train,self.weight) + self.bias - y_train)**2)\n",
        "\n",
        "  def grad_w(self, n_samples, x_train, y_train):\n",
        "    return 1/n_samples * np.sum(np.dot(x_train,self.weight) + self.bias - y_train) * self.weight\n",
        "\n",
        "  def grad_b(self, n_samples, x_train, y_train):\n",
        "    return 1/n_samples * np.sum(np.dot(x_train,self.weight) + self.bias - y_train)\n",
        "\n",
        "  def fit(self, x_train, y_train): \n",
        "      n_samples = x_train.shape[0]\n",
        "\n",
        "      for i in range(self.n_iters):\n",
        "        cost_value = self.cost(n_samples, x_train, y_train)\n",
        "\n",
        "        if cost_value < self.stop_point:\n",
        "          print(\"Cost value: \", cost_value)\n",
        "          return\n",
        "\n",
        "        self.weight -= self.lr*self.grad_w(n_samples, x_train, y_train)\n",
        "        self.bias -= self.lr*self.grad_b(n_samples, x_train, y_train)\n",
        "    \n",
        "\n",
        "  def predict(x_input):\n",
        "      return self.weight * x_input + self.bias"
      ],
      "execution_count": 100,
      "outputs": []
    },
    {
      "cell_type": "markdown",
      "source": [
        "Gradient Descent depend on our initial values as a function can hold many local minimun points"
      ],
      "metadata": {
        "id": "hPOmVKo6t7wW"
      }
    },
    {
      "cell_type": "code",
      "metadata": {
        "id": "9950fXOQSE2t",
        "colab": {
          "base_uri": "https://localhost:8080/"
        },
        "outputId": "2704e586-848e-4285-b1bb-f6911d12d6c9"
      },
      "source": [
        "model = LinearRegression(weight=1, bias=0);\n",
        "model.fit(x_train, y_train)\n",
        "print(model.weight, model.bias)"
      ],
      "execution_count": 101,
      "outputs": [
        {
          "output_type": "stream",
          "name": "stdout",
          "text": [
            "31.545801515292506 3.745073538603239\n"
          ]
        }
      ]
    },
    {
      "cell_type": "code",
      "source": [
        "model = LinearRegression(weight=80, bias=0);\n",
        "model.fit(x_train, y_train)\n",
        "print(model.weight, model.bias)"
      ],
      "metadata": {
        "colab": {
          "base_uri": "https://localhost:8080/"
        },
        "id": "S1isByPAt3q7",
        "outputId": "5a2b9970-3d0c-40b7-9f3c-dd4e57fa7d6f"
      },
      "execution_count": 103,
      "outputs": [
        {
          "output_type": "stream",
          "name": "stdout",
          "text": [
            "84.88378572085706 0.03265042435024178\n"
          ]
        }
      ]
    },
    {
      "cell_type": "markdown",
      "source": [
        "# Plot data and the model"
      ],
      "metadata": {
        "id": "dQavsv2puH3R"
      }
    },
    {
      "cell_type": "code",
      "metadata": {
        "colab": {
          "base_uri": "https://localhost:8080/",
          "height": 265
        },
        "id": "QrsXo28Peb3F",
        "outputId": "ac6ff91b-c02c-44ba-c8b3-fa9832dd3992"
      },
      "source": [
        "def plotLine(X,Y,model):\n",
        "  w = model.weight\n",
        "  b = model.bias\n",
        "  predicted_values = []\n",
        "  for x_i in X:\n",
        "    predicted_values.append(w*x_i + b)\n",
        "\n",
        "  plt.scatter(X,Y)\n",
        "  plt.plot(X, predicted_values)\n",
        "  plt.show()\n",
        "\n",
        "plotLine(x_train, y_train, model)\n",
        "\n"
      ],
      "execution_count": 104,
      "outputs": [
        {
          "output_type": "display_data",
          "data": {
            "image/png": "[encoded data removed]",
            "text/plain": [
              "<Figure size 432x288 with 1 Axes>"
            ]
          },
          "metadata": {
            "needs_background": "light"
          }
        }
      ]
    }
  ]
}